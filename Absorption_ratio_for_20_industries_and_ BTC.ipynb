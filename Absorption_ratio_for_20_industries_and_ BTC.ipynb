{
 "cells": [
  {
   "cell_type": "code",
   "execution_count": 2,
   "metadata": {},
   "outputs": [],
   "source": [
    "#this notebook is based on Igor Halperin's notebook: Trading Strategy based on PCA\n",
    "#Please install: conda install -c desilinguist factor_analyzer==0.3.2"
   ]
  },
  {
   "cell_type": "code",
   "execution_count": 3,
   "metadata": {},
   "outputs": [],
   "source": [
    "#this notebook is based on Igor Halperin's notebook: Trading Strategy based on PCA\n",
    "#Please install: conda install -c desilinguist factor_analyzer==0.3.2"
   ]
  },
  {
   "cell_type": "markdown",
   "metadata": {},
   "source": [
    "# Trading Strategy based on PCA\n",
    "\n",
    "**For this project you will:**\n",
    "- Read: https://www.researchgate.net/publication/228140014_Principal_Components_as_a_Measure_of_Systemic_Risk\n",
    "- Understand how to use PCA to calculate a measure of market systemic risk (the absorption rato) as per this paper.\n",
    "- Understand the use of the absorption ratio in a portfolio trading strategy (code provided in this notebook)\n",
    "\n",
    "-Read: \n",
    "-Watch the second video in: https://utoronto-my.sharepoint.com/:u:/g/personal/rosario_trigoferre_utoronto_ca/EV06F_BwtdFNjMizMMJCI8IBSqF1tPh71loqyMLUZo2Zmg?e=PueffL\n",
    "- Understand how to use an ARIMA+LSTM model to predict stock correlations as per this paper.\n",
    "- Construct the ARIMA + LSTM model with the code provided in the appendix of this paper.\n",
    "- Replace the covariance matrix in this notebook, cov_mat (see code below), with predicted_cov_mat. At present, cov_mat = ret_frame.cov(). \n",
    "-To construct predicted_cov_mat, calculate the covariance matrix as shown in PortfolioPresentationPart1.pptx slide 16 where the correlations are indicated with the Greek letter rho (see slide 12 for reference). Obtain the correlations by predicting them with the ARIMA + LSTM model. As per slide 16, you also need the variances indicated with the Greek letter sigma (see slide 8 for reference). A variance is just the covariance of an asset with itself.  You can predict these variances using the ARIMA + LSTM model also or you can just estimate them from historical data (as long as the lookbacks you use are consistent with the lookbacks used in the ARIMA + LSTM model).\n",
    "- Once you have replaced cov_mat with predicted_cov_mat, run this notebook and comment on the results: are they better than when using the original covariance matrix? \n",
    "- You can use fewer stocks to limit the calculation time.\n",
    "- Regarding the predicted_cov_mat above, you can also use a predicted_corr_mat. That is, pca can be done on either a covariance matrix of the returns or on the correlation matrix of the returns.\n",
    "\n",
    "\n",
    "**Installation Instructions:**\n",
    "- conda install -c desilinguist factor_analyzer"
   ]
  },
  {
   "cell_type": "markdown",
   "metadata": {},
   "source": [
    "The absorption ratio was introduced by Kritzman and others in the 2010 paper, Principal Components as a Measure of Systemic Risk. The authors described the ratio as an implied measure of systemic risk that captures the extent to which markets are unified or tightly coupled.\n",
    "\n",
    "The basic idea is to use building blocks of sub-assets to see how tightly a system of assets is trading. In this notebook we’ll use U.S. industries as the building blocks to examine the U.S. stock market. More specifically, we’ll examine linear combinations of U.S. industries  that explain the variance of the U.S. stock market. Principal Component Analysis solves this objective iteratively. PCA finds the linear combination of industries that explain the most amount of the market’s variance. Then it finds the next linear combination of industries that explain the most amount of left over variance (that is not explained by the first combination of industries). This process will be repeated until all of the variance has been explained. The absorption ratio gets its name from the idea of calculating how much of the market’s variance is “absorbed” by the first 20% of combinations of industries.\n",
    "\n",
    "According to the paper, there are two steps to calculating a meaningful absorption ratio (AR). The first is to calculate the AR ratio and the second involves finding the standardized change of the AR ratio over time. The standardized change is essentially a z-score to allow us to detect high outliers of change.\n",
    "\n",
    "STEP 1: Formally, the ratio is defined by the variance absorbed by the first n eigenvectors:"
   ]
  },
  {
   "cell_type": "markdown",
   "metadata": {},
   "source": [
    "![AR_Ratio.PNG](attachment:AR_Ratio.PNG)"
   ]
  },
  {
   "cell_type": "markdown",
   "metadata": {},
   "source": [
    "The numerator equals the cumulative portion explained by the first n eigenvectors (i.e. the first n linear combinations of industries). And the denominator equals the total variance explained by all the assets (again, in this case industries). The paper suggests to set n to 1/5 of the total assets. But there are a variety of methods to find the significant stopping point for eigenvectors in PCA. You should try a number of settings for this parameter n. "
   ]
  },
  {
   "cell_type": "markdown",
   "metadata": {},
   "source": [
    " Basically you will see that  the first combination (the first eigenvector) of industries explains more than 50% of the total variance. This reading makes sense: the U.S. industries are mostly going to trade together because they’re driven by the same underlying factor, in this case, the vector of market driven betas which is usually captured by the first eigenvector. The second combination (eigenvector) of industries (possibly representing growth stocks vs value stocks) will add to our explanation of total variance (total risk), and the next one (possibly defensive stocks vs cyclical stocks), etc. until the explained variance is over 80%. This is our absorption ratio. \n",
    "Note: the meaning of an eigenvector cannot be determined exactly"
   ]
  },
  {
   "cell_type": "markdown",
   "metadata": {},
   "source": [
    "STEP 2: Having computed AR daily and put together an AR times series, we further follow M. Kritzman to make use of AR to define yet another measure: AR Delta. AR Delta is the standardized change of the absorption ratio over time. The standardized change is essentially a z-score to allow us to detect high outliers of change In particular:"
   ]
  },
  {
   "cell_type": "markdown",
   "metadata": {},
   "source": [
    "![AR_Ratio_ZValue.PNG](attachment:AR_Ratio_ZValue.PNG)"
   ]
  },
  {
   "cell_type": "markdown",
   "metadata": {},
   "source": [
    "We use  𝐴𝑅 Delta  to build simple portfolio trading strategy."
   ]
  },
  {
   "cell_type": "markdown",
   "metadata": {},
   "source": [
    "### Keiser-Meyer-Olkin (KMO)"
   ]
  },
  {
   "cell_type": "markdown",
   "metadata": {},
   "source": [
    "We have discussed in lecture that PCA can be used to filter \"noise\" away from data by the removal of some principal components, specifically those that have less importance because their eigenvalue is small compared to that of the principal components that we keep. This presupposes that the the eigenvalues that PCA outputs are NOT all going to be of similar magnitude. If the eigenvalue magnitudes are similar, that is an indication that the variables in the original data were largely uncorrelated with one another to begin with; meaning, each variable was contributing a valuable dimension, so it makes sense to keep all of them, not to get rid of some of them via PCA.  There is a rule of thumb that can be used to determine if PCA is redundant or not: if the average absolute value of the off diagonal elements of the correlation matrix of the orginal data is less than 0.3, then PCA is redundant for that data.  A more formal way making this determination is through the use of the Kaiser-Meyer-Olkin (KMO) measure.\n",
    "\n",
    "We use the Kaiser-Meyer-Olkin (KMO) measure of sampling adequacy (Kaiser,1970;\n",
    "Kaiser and Rice,1974) to test the length of the shortest sliding window that a PCA could be\n",
    "efficiently applied to. The KMO statistic compares the value of correlations between assets\n",
    "(here industry ETFs) to those of the partial correlations. \n",
    "If the investigated assets share more common variation,\n",
    "the KMO will be close to 1. On the other hand, a KMO near 0 indicates little common variation\n",
    "and the PCA will not extract much useful information. \n",
    "\n",
    "The KMO statistic can also be used to assess the potential for diversification. Since the KMO\n",
    "statistic measures the degree of common variation among the input assets,\n",
    "one can expect less diversification opportunities (and higher market risk)\n",
    "when the assets have more common variation, which means a high KMO test statistic.\n",
    "\n",
    "As mentioned above, KMO values range between 0 and 1. Value of KMO less than 0.6 is considered inadequate for PCA.\n",
    "\n",
    "See: 1. Kaiser, H. F. and Rice, J. (1974). Little jiffy. Educational and Psychological Measurement,\n",
    "34(1):111–117. and 2. https://factor-analyzer.readthedocs.io/en/latest/factor_analyzer.html"
   ]
  },
  {
   "cell_type": "code",
   "execution_count": 4,
   "metadata": {},
   "outputs": [
    {
     "name": "stdout",
     "output_type": "stream",
     "text": [
      "Requirement already satisfied: factor_analyzer in /opt/anaconda3/lib/python3.11/site-packages (0.5.1)\n",
      "Requirement already satisfied: pandas in /opt/anaconda3/lib/python3.11/site-packages (from factor_analyzer) (2.2.2)\n",
      "Requirement already satisfied: scipy in /opt/anaconda3/lib/python3.11/site-packages (from factor_analyzer) (1.11.4)\n",
      "Requirement already satisfied: numpy in /opt/anaconda3/lib/python3.11/site-packages (from factor_analyzer) (1.26.4)\n",
      "Requirement already satisfied: scikit-learn in /opt/anaconda3/lib/python3.11/site-packages (from factor_analyzer) (1.2.2)\n",
      "Requirement already satisfied: python-dateutil>=2.8.2 in /opt/anaconda3/lib/python3.11/site-packages (from pandas->factor_analyzer) (2.8.2)\n",
      "Requirement already satisfied: pytz>=2020.1 in /opt/anaconda3/lib/python3.11/site-packages (from pandas->factor_analyzer) (2023.3.post1)\n",
      "Requirement already satisfied: tzdata>=2022.7 in /opt/anaconda3/lib/python3.11/site-packages (from pandas->factor_analyzer) (2023.3)\n",
      "Requirement already satisfied: joblib>=1.1.1 in /opt/anaconda3/lib/python3.11/site-packages (from scikit-learn->factor_analyzer) (1.2.0)\n",
      "Requirement already satisfied: threadpoolctl>=2.0.0 in /opt/anaconda3/lib/python3.11/site-packages (from scikit-learn->factor_analyzer) (2.2.0)\n",
      "Requirement already satisfied: six>=1.5 in /opt/anaconda3/lib/python3.11/site-packages (from python-dateutil>=2.8.2->pandas->factor_analyzer) (1.16.0)\n"
     ]
    }
   ],
   "source": [
    "import pandas as pd\n",
    "import numpy as np\n",
    "import sklearn.decomposition\n",
    "import numpy.linalg as linalg\n",
    "\n",
    "import matplotlib.pyplot as plt\n",
    "%matplotlib inline\n",
    "\n",
    "import sklearn.model_selection\n",
    "import pandas as pd\n",
    "!pip install factor_analyzer\n",
    "from factor_analyzer.factor_analyzer import calculate_kmo\n",
    "import posdef"
   ]
  },
  {
   "cell_type": "markdown",
   "metadata": {},
   "source": [
    "#### Dataset:  daily prices of ETFs of 20 different industries  ####\n",
    "For this exercise we will be working with 20 ETFs representing 20 different industries. \n",
    "The following cell computes returns based on ETF price data. We obtain the data from WRDS as follows:"
   ]
  },
  {
   "cell_type": "code",
   "execution_count": 5,
   "metadata": {},
   "outputs": [],
   "source": [
    "#1.Go to WRDS CRSP database and obtain the price and ticker data for the following industry ETFs:\n",
    "#IYW IYJ IBB IGV IXP IYT VNQ PBS PBJ KCE KIE KBE XSD ITB ITA IHI IHF IHE IEZ FDN\n",
    "#2. set the starting and ending dates as follows: 1/3/2007 and 12/31/2019\n",
    "#3. Unstack the prices and save the unstacked price data into a csv file called:\n",
    "# 20industries_ETF_prc_UNSTACKED.csv "
   ]
  },
  {
   "cell_type": "code",
   "execution_count": 6,
   "metadata": {},
   "outputs": [
    {
     "name": "stdout",
     "output_type": "stream",
     "text": [
      "Asset prices shape (1458, 21)\n",
      "                BTC-USD        IYW        IYJ         IBB        IGV  \\\n",
      "Date                                                                   \n",
      "2020-01-02  6985.470215  58.085709  80.971329  118.524498  47.159706   \n",
      "2020-01-03  7344.884277  57.505882  80.794868  117.011932  46.988758   \n",
      "2020-01-04  7410.656738  57.505882  80.794868  117.011932  46.988758   \n",
      "2020-01-05  7411.317383  57.505882  80.794868  117.011932  46.988758   \n",
      "2020-01-06  7769.219238  57.860638  80.723320  117.763268  47.537388   \n",
      "\n",
      "                  IXP        IYT        VNQ        PBS        PBJ  ...  \\\n",
      "Date                                                               ...   \n",
      "2020-01-02  58.636944  46.719631  77.334351  32.966473  31.948799  ...   \n",
      "2020-01-03  58.372860  46.397335  77.815056  32.819447  32.042793  ...   \n",
      "2020-01-04  58.372860  46.397335  77.815056  32.819447  32.042793  ...   \n",
      "2020-01-05  58.372860  46.397335  77.815056  32.819447  32.042793  ...   \n",
      "2020-01-06  58.929333  46.120060  77.907829  32.865108  31.958208  ...   \n",
      "\n",
      "                  KIE        KBE         XSD        ITB         ITA  \\\n",
      "Date                                                                  \n",
      "2020-01-02  32.679985  41.620171  106.572701  43.087566  108.588684   \n",
      "2020-01-03  32.624962  41.224968  104.906113  43.213966  109.830322   \n",
      "2020-01-04  32.624962  41.224968  104.906113  43.213966  109.830322   \n",
      "2020-01-05  32.624962  41.224968  104.906113  43.213966  109.830322   \n",
      "2020-01-06  32.597443  40.900013  104.176361  43.602947  109.978371   \n",
      "\n",
      "                  IHI        IHF        IHE        IEZ         FDN  \n",
      "Date                                                                \n",
      "2020-01-02  43.516872  38.519016  49.738419  19.016417  141.410004  \n",
      "2020-01-03  43.203964  38.326107  49.205700  19.222004  140.279999  \n",
      "2020-01-04  43.203964  38.326107  49.205700  19.222004  140.279999  \n",
      "2020-01-05  43.203964  38.326107  49.205700  19.222004  140.279999  \n",
      "2020-01-06  43.566025  38.727371  49.264545  19.558413  142.229996  \n",
      "\n",
      "[5 rows x 21 columns]\n",
      "                 BTC-USD         IYW         IYJ         IBB        IGV  \\\n",
      "Date                                                                      \n",
      "2023-12-25  43613.140625  122.460602  113.301201  133.646515  81.498001   \n",
      "2023-12-26  42520.402344  123.109863  113.928612  134.905350  81.758003   \n",
      "2023-12-27  43442.855469  123.109863  114.137749  136.733658  81.695999   \n",
      "2023-12-28  42627.855469  123.169800  114.187546  136.903503  81.667999   \n",
      "2023-12-29  42099.402344  122.610428  113.888779  135.724594  81.127998   \n",
      "\n",
      "                  IXP        IYT        VNQ        PBS        PBJ  ...  \\\n",
      "Date                                                               ...   \n",
      "2023-12-25  74.043083  65.693512  85.898895  38.293098  45.439247  ...   \n",
      "2023-12-26  74.291817  65.899887  86.535477  38.620201  45.697990  ...   \n",
      "2023-12-27  74.281868  65.902382  86.956604  38.744701  45.777603  ...   \n",
      "2023-12-28  74.500748  65.932220  87.573593  38.857899  45.747753  ...   \n",
      "2023-12-29  74.242073  65.253395  86.535477  38.683601  45.628326  ...   \n",
      "\n",
      "                  KIE        KBE         XSD         ITB         ITA  \\\n",
      "Date                                                                   \n",
      "2023-12-25  44.570652  45.311954  225.436188  101.218330  125.385796   \n",
      "2023-12-26  44.610359  45.913223  229.082870  101.767120  126.062904   \n",
      "2023-12-27  44.679840  45.873798  228.853088  102.246078  126.142570   \n",
      "2023-12-28  44.858521  45.952648  228.063812  101.916794  126.072861   \n",
      "2023-12-29  44.888306  45.361240  224.586945  101.507698  126.062904   \n",
      "\n",
      "                  IHI        IHF        IHE        IEZ         FDN  \n",
      "Date                                                                \n",
      "2023-12-25  53.570621  52.163826  60.461823  21.915094  187.699997  \n",
      "2023-12-26  53.870178  52.291512  60.755985  22.440899  188.130005  \n",
      "2023-12-27  53.950054  52.335407  61.397190  22.232561  188.100006  \n",
      "2023-12-28  54.039921  52.447132  61.390579  21.895252  188.389999  \n",
      "2023-12-29  53.890148  52.381287  61.278206  21.746439  186.550003  \n",
      "\n",
      "[5 rows x 21 columns]\n"
     ]
    },
    {
     "name": "stderr",
     "output_type": "stream",
     "text": [
      "/var/folders/tz/pry5nfj12jn20gctg0w4tvl80000gn/T/ipykernel_25623/4086494406.py:3: FutureWarning: The argument 'date_parser' is deprecated and will be removed in a future version. Please use 'date_format' instead, or read your data in as 'object' dtype and then call 'to_datetime'.\n",
      "  asset_prices = pd.read_csv('stock_prices_latest.csv',\n"
     ]
    }
   ],
   "source": [
    "import os\n",
    "# load dataset\n",
    "asset_prices = pd.read_csv('stock_prices_latest.csv',\n",
    "                     date_parser=lambda dt: pd.to_datetime(dt, format='%Y-%m-%d'),\n",
    "                     index_col = 0).dropna()\n",
    "n_stocks_show = 21\n",
    "print('Asset prices shape', asset_prices.shape)\n",
    "print(asset_prices.iloc[:, :n_stocks_show].head())\n",
    "print(asset_prices.iloc[:, :n_stocks_show].tail())"
   ]
  },
  {
   "cell_type": "markdown",
   "metadata": {},
   "source": [
    "### Calculate daily returns ¶"
   ]
  },
  {
   "cell_type": "code",
   "execution_count": 7,
   "metadata": {},
   "outputs": [
    {
     "data": {
      "text/html": [
       "<div>\n",
       "<style scoped>\n",
       "    .dataframe tbody tr th:only-of-type {\n",
       "        vertical-align: middle;\n",
       "    }\n",
       "\n",
       "    .dataframe tbody tr th {\n",
       "        vertical-align: top;\n",
       "    }\n",
       "\n",
       "    .dataframe thead th {\n",
       "        text-align: right;\n",
       "    }\n",
       "</style>\n",
       "<table border=\"1\" class=\"dataframe\">\n",
       "  <thead>\n",
       "    <tr style=\"text-align: right;\">\n",
       "      <th></th>\n",
       "      <th>BTC-USD</th>\n",
       "      <th>IYW</th>\n",
       "      <th>IYJ</th>\n",
       "      <th>IBB</th>\n",
       "      <th>IGV</th>\n",
       "      <th>IXP</th>\n",
       "      <th>IYT</th>\n",
       "      <th>VNQ</th>\n",
       "      <th>PBS</th>\n",
       "      <th>PBJ</th>\n",
       "      <th>...</th>\n",
       "      <th>KIE</th>\n",
       "      <th>KBE</th>\n",
       "      <th>XSD</th>\n",
       "      <th>ITB</th>\n",
       "      <th>ITA</th>\n",
       "      <th>IHI</th>\n",
       "      <th>IHF</th>\n",
       "      <th>IHE</th>\n",
       "      <th>IEZ</th>\n",
       "      <th>FDN</th>\n",
       "    </tr>\n",
       "    <tr>\n",
       "      <th>Date</th>\n",
       "      <th></th>\n",
       "      <th></th>\n",
       "      <th></th>\n",
       "      <th></th>\n",
       "      <th></th>\n",
       "      <th></th>\n",
       "      <th></th>\n",
       "      <th></th>\n",
       "      <th></th>\n",
       "      <th></th>\n",
       "      <th></th>\n",
       "      <th></th>\n",
       "      <th></th>\n",
       "      <th></th>\n",
       "      <th></th>\n",
       "      <th></th>\n",
       "      <th></th>\n",
       "      <th></th>\n",
       "      <th></th>\n",
       "      <th></th>\n",
       "      <th></th>\n",
       "    </tr>\n",
       "  </thead>\n",
       "  <tbody>\n",
       "    <tr>\n",
       "      <th>2020-01-03</th>\n",
       "      <td>0.051452</td>\n",
       "      <td>-0.009982</td>\n",
       "      <td>-0.002179</td>\n",
       "      <td>-0.012762</td>\n",
       "      <td>-0.003625</td>\n",
       "      <td>-0.004504</td>\n",
       "      <td>-0.006899</td>\n",
       "      <td>0.006216</td>\n",
       "      <td>-0.004460</td>\n",
       "      <td>0.002942</td>\n",
       "      <td>...</td>\n",
       "      <td>-0.001684</td>\n",
       "      <td>-0.009495</td>\n",
       "      <td>-0.015638</td>\n",
       "      <td>0.002934</td>\n",
       "      <td>0.011434</td>\n",
       "      <td>-0.007191</td>\n",
       "      <td>-0.005008</td>\n",
       "      <td>-0.010710</td>\n",
       "      <td>0.010811</td>\n",
       "      <td>-0.007991</td>\n",
       "    </tr>\n",
       "    <tr>\n",
       "      <th>2020-01-04</th>\n",
       "      <td>0.008955</td>\n",
       "      <td>0.000000</td>\n",
       "      <td>0.000000</td>\n",
       "      <td>0.000000</td>\n",
       "      <td>0.000000</td>\n",
       "      <td>0.000000</td>\n",
       "      <td>0.000000</td>\n",
       "      <td>0.000000</td>\n",
       "      <td>0.000000</td>\n",
       "      <td>0.000000</td>\n",
       "      <td>...</td>\n",
       "      <td>0.000000</td>\n",
       "      <td>0.000000</td>\n",
       "      <td>0.000000</td>\n",
       "      <td>0.000000</td>\n",
       "      <td>0.000000</td>\n",
       "      <td>0.000000</td>\n",
       "      <td>0.000000</td>\n",
       "      <td>0.000000</td>\n",
       "      <td>0.000000</td>\n",
       "      <td>0.000000</td>\n",
       "    </tr>\n",
       "    <tr>\n",
       "      <th>2020-01-05</th>\n",
       "      <td>0.000089</td>\n",
       "      <td>0.000000</td>\n",
       "      <td>0.000000</td>\n",
       "      <td>0.000000</td>\n",
       "      <td>0.000000</td>\n",
       "      <td>0.000000</td>\n",
       "      <td>0.000000</td>\n",
       "      <td>0.000000</td>\n",
       "      <td>0.000000</td>\n",
       "      <td>0.000000</td>\n",
       "      <td>...</td>\n",
       "      <td>0.000000</td>\n",
       "      <td>0.000000</td>\n",
       "      <td>0.000000</td>\n",
       "      <td>0.000000</td>\n",
       "      <td>0.000000</td>\n",
       "      <td>0.000000</td>\n",
       "      <td>0.000000</td>\n",
       "      <td>0.000000</td>\n",
       "      <td>0.000000</td>\n",
       "      <td>0.000000</td>\n",
       "    </tr>\n",
       "    <tr>\n",
       "      <th>2020-01-06</th>\n",
       "      <td>0.048291</td>\n",
       "      <td>0.006169</td>\n",
       "      <td>-0.000886</td>\n",
       "      <td>0.006421</td>\n",
       "      <td>0.011676</td>\n",
       "      <td>0.009533</td>\n",
       "      <td>-0.005976</td>\n",
       "      <td>0.001192</td>\n",
       "      <td>0.001391</td>\n",
       "      <td>-0.002640</td>\n",
       "      <td>...</td>\n",
       "      <td>-0.000844</td>\n",
       "      <td>-0.007882</td>\n",
       "      <td>-0.006956</td>\n",
       "      <td>0.009001</td>\n",
       "      <td>0.001348</td>\n",
       "      <td>0.008380</td>\n",
       "      <td>0.010470</td>\n",
       "      <td>0.001196</td>\n",
       "      <td>0.017501</td>\n",
       "      <td>0.013901</td>\n",
       "    </tr>\n",
       "    <tr>\n",
       "      <th>2020-01-07</th>\n",
       "      <td>0.050774</td>\n",
       "      <td>0.000381</td>\n",
       "      <td>-0.001477</td>\n",
       "      <td>0.000252</td>\n",
       "      <td>0.002676</td>\n",
       "      <td>-0.000960</td>\n",
       "      <td>0.003494</td>\n",
       "      <td>-0.011150</td>\n",
       "      <td>0.005704</td>\n",
       "      <td>-0.007353</td>\n",
       "      <td>...</td>\n",
       "      <td>-0.007032</td>\n",
       "      <td>-0.006657</td>\n",
       "      <td>0.015430</td>\n",
       "      <td>-0.002453</td>\n",
       "      <td>0.004516</td>\n",
       "      <td>-0.002031</td>\n",
       "      <td>-0.004334</td>\n",
       "      <td>-0.002703</td>\n",
       "      <td>-0.021500</td>\n",
       "      <td>0.000844</td>\n",
       "    </tr>\n",
       "  </tbody>\n",
       "</table>\n",
       "<p>5 rows × 21 columns</p>\n",
       "</div>"
      ],
      "text/plain": [
       "             BTC-USD       IYW       IYJ       IBB       IGV       IXP  \\\n",
       "Date                                                                     \n",
       "2020-01-03  0.051452 -0.009982 -0.002179 -0.012762 -0.003625 -0.004504   \n",
       "2020-01-04  0.008955  0.000000  0.000000  0.000000  0.000000  0.000000   \n",
       "2020-01-05  0.000089  0.000000  0.000000  0.000000  0.000000  0.000000   \n",
       "2020-01-06  0.048291  0.006169 -0.000886  0.006421  0.011676  0.009533   \n",
       "2020-01-07  0.050774  0.000381 -0.001477  0.000252  0.002676 -0.000960   \n",
       "\n",
       "                 IYT       VNQ       PBS       PBJ  ...       KIE       KBE  \\\n",
       "Date                                                ...                       \n",
       "2020-01-03 -0.006899  0.006216 -0.004460  0.002942  ... -0.001684 -0.009495   \n",
       "2020-01-04  0.000000  0.000000  0.000000  0.000000  ...  0.000000  0.000000   \n",
       "2020-01-05  0.000000  0.000000  0.000000  0.000000  ...  0.000000  0.000000   \n",
       "2020-01-06 -0.005976  0.001192  0.001391 -0.002640  ... -0.000844 -0.007882   \n",
       "2020-01-07  0.003494 -0.011150  0.005704 -0.007353  ... -0.007032 -0.006657   \n",
       "\n",
       "                 XSD       ITB       ITA       IHI       IHF       IHE  \\\n",
       "Date                                                                     \n",
       "2020-01-03 -0.015638  0.002934  0.011434 -0.007191 -0.005008 -0.010710   \n",
       "2020-01-04  0.000000  0.000000  0.000000  0.000000  0.000000  0.000000   \n",
       "2020-01-05  0.000000  0.000000  0.000000  0.000000  0.000000  0.000000   \n",
       "2020-01-06 -0.006956  0.009001  0.001348  0.008380  0.010470  0.001196   \n",
       "2020-01-07  0.015430 -0.002453  0.004516 -0.002031 -0.004334 -0.002703   \n",
       "\n",
       "                 IEZ       FDN  \n",
       "Date                            \n",
       "2020-01-03  0.010811 -0.007991  \n",
       "2020-01-04  0.000000  0.000000  \n",
       "2020-01-05  0.000000  0.000000  \n",
       "2020-01-06  0.017501  0.013901  \n",
       "2020-01-07 -0.021500  0.000844  \n",
       "\n",
       "[5 rows x 21 columns]"
      ]
     },
     "execution_count": 7,
     "metadata": {},
     "output_type": "execute_result"
    }
   ],
   "source": [
    "asset_returns = asset_prices.pct_change(periods=1)\n",
    "asset_returns = asset_returns.iloc[1:, :]\n",
    "asset_returns.iloc[:, :n_stocks_show].head()"
   ]
  },
  {
   "cell_type": "code",
   "execution_count": 8,
   "metadata": {},
   "outputs": [],
   "source": [
    "def normalize_returns(r_df):\n",
    "    mean_r = r_df.mean(axis=0)\n",
    "    sd_r = r_df.std(axis=0)\n",
    "    normed_df = (r_df - mean_r) /sd_r\n",
    "    return normed_df"
   ]
  },
  {
   "cell_type": "code",
   "execution_count": 9,
   "metadata": {},
   "outputs": [
    {
     "data": {
      "text/html": [
       "<div>\n",
       "<style scoped>\n",
       "    .dataframe tbody tr th:only-of-type {\n",
       "        vertical-align: middle;\n",
       "    }\n",
       "\n",
       "    .dataframe tbody tr th {\n",
       "        vertical-align: top;\n",
       "    }\n",
       "\n",
       "    .dataframe thead th {\n",
       "        text-align: right;\n",
       "    }\n",
       "</style>\n",
       "<table border=\"1\" class=\"dataframe\">\n",
       "  <thead>\n",
       "    <tr style=\"text-align: right;\">\n",
       "      <th></th>\n",
       "      <th>BTC-USD</th>\n",
       "      <th>IYW</th>\n",
       "      <th>IYJ</th>\n",
       "      <th>IBB</th>\n",
       "      <th>IGV</th>\n",
       "      <th>IXP</th>\n",
       "      <th>IYT</th>\n",
       "      <th>VNQ</th>\n",
       "      <th>PBS</th>\n",
       "      <th>PBJ</th>\n",
       "      <th>...</th>\n",
       "      <th>KIE</th>\n",
       "      <th>KBE</th>\n",
       "      <th>XSD</th>\n",
       "      <th>ITB</th>\n",
       "      <th>ITA</th>\n",
       "      <th>IHI</th>\n",
       "      <th>IHF</th>\n",
       "      <th>IHE</th>\n",
       "      <th>IEZ</th>\n",
       "      <th>FDN</th>\n",
       "    </tr>\n",
       "    <tr>\n",
       "      <th>Date</th>\n",
       "      <th></th>\n",
       "      <th></th>\n",
       "      <th></th>\n",
       "      <th></th>\n",
       "      <th></th>\n",
       "      <th></th>\n",
       "      <th></th>\n",
       "      <th></th>\n",
       "      <th></th>\n",
       "      <th></th>\n",
       "      <th></th>\n",
       "      <th></th>\n",
       "      <th></th>\n",
       "      <th></th>\n",
       "      <th></th>\n",
       "      <th></th>\n",
       "      <th></th>\n",
       "      <th></th>\n",
       "      <th></th>\n",
       "      <th></th>\n",
       "      <th></th>\n",
       "    </tr>\n",
       "  </thead>\n",
       "  <tbody>\n",
       "    <tr>\n",
       "      <th>2020-01-03</th>\n",
       "      <td>1.424209</td>\n",
       "      <td>-0.671056</td>\n",
       "      <td>-0.190591</td>\n",
       "      <td>-0.947274</td>\n",
       "      <td>-0.254150</td>\n",
       "      <td>-0.390448</td>\n",
       "      <td>-0.501975</td>\n",
       "      <td>0.420998</td>\n",
       "      <td>-0.315017</td>\n",
       "      <td>0.273329</td>\n",
       "      <td>...</td>\n",
       "      <td>-0.138042</td>\n",
       "      <td>-0.485087</td>\n",
       "      <td>-0.792320</td>\n",
       "      <td>0.108289</td>\n",
       "      <td>0.725666</td>\n",
       "      <td>-0.590722</td>\n",
       "      <td>-0.407742</td>\n",
       "      <td>-1.062820</td>\n",
       "      <td>0.366435</td>\n",
       "      <td>-0.497355</td>\n",
       "    </tr>\n",
       "    <tr>\n",
       "      <th>2020-01-04</th>\n",
       "      <td>0.203902</td>\n",
       "      <td>-0.040340</td>\n",
       "      <td>-0.024434</td>\n",
       "      <td>-0.013644</td>\n",
       "      <td>-0.031061</td>\n",
       "      <td>-0.019436</td>\n",
       "      <td>-0.023140</td>\n",
       "      <td>-0.012654</td>\n",
       "      <td>-0.014868</td>\n",
       "      <td>-0.030102</td>\n",
       "      <td>...</td>\n",
       "      <td>-0.022307</td>\n",
       "      <td>-0.013012</td>\n",
       "      <td>-0.035116</td>\n",
       "      <td>-0.039651</td>\n",
       "      <td>-0.014400</td>\n",
       "      <td>-0.017975</td>\n",
       "      <td>-0.022770</td>\n",
       "      <td>-0.019091</td>\n",
       "      <td>-0.017661</td>\n",
       "      <td>-0.019754</td>\n",
       "    </tr>\n",
       "    <tr>\n",
       "      <th>2020-01-05</th>\n",
       "      <td>-0.050679</td>\n",
       "      <td>-0.040340</td>\n",
       "      <td>-0.024434</td>\n",
       "      <td>-0.013644</td>\n",
       "      <td>-0.031061</td>\n",
       "      <td>-0.019436</td>\n",
       "      <td>-0.023140</td>\n",
       "      <td>-0.012654</td>\n",
       "      <td>-0.014868</td>\n",
       "      <td>-0.030102</td>\n",
       "      <td>...</td>\n",
       "      <td>-0.022307</td>\n",
       "      <td>-0.013012</td>\n",
       "      <td>-0.035116</td>\n",
       "      <td>-0.039651</td>\n",
       "      <td>-0.014400</td>\n",
       "      <td>-0.017975</td>\n",
       "      <td>-0.022770</td>\n",
       "      <td>-0.019091</td>\n",
       "      <td>-0.017661</td>\n",
       "      <td>-0.019754</td>\n",
       "    </tr>\n",
       "    <tr>\n",
       "      <th>2020-01-06</th>\n",
       "      <td>1.333457</td>\n",
       "      <td>0.349443</td>\n",
       "      <td>-0.091952</td>\n",
       "      <td>0.456112</td>\n",
       "      <td>0.687513</td>\n",
       "      <td>0.765890</td>\n",
       "      <td>-0.437949</td>\n",
       "      <td>0.070521</td>\n",
       "      <td>0.078767</td>\n",
       "      <td>-0.302358</td>\n",
       "      <td>...</td>\n",
       "      <td>-0.080288</td>\n",
       "      <td>-0.404896</td>\n",
       "      <td>-0.371942</td>\n",
       "      <td>0.414285</td>\n",
       "      <td>0.072846</td>\n",
       "      <td>0.649540</td>\n",
       "      <td>0.782027</td>\n",
       "      <td>0.097451</td>\n",
       "      <td>0.604124</td>\n",
       "      <td>0.811060</td>\n",
       "    </tr>\n",
       "    <tr>\n",
       "      <th>2020-01-07</th>\n",
       "      <td>1.404745</td>\n",
       "      <td>-0.016296</td>\n",
       "      <td>-0.137063</td>\n",
       "      <td>0.004784</td>\n",
       "      <td>0.133634</td>\n",
       "      <td>-0.098546</td>\n",
       "      <td>0.219367</td>\n",
       "      <td>-0.790505</td>\n",
       "      <td>0.369042</td>\n",
       "      <td>-0.788461</td>\n",
       "      <td>...</td>\n",
       "      <td>-0.505687</td>\n",
       "      <td>-0.343955</td>\n",
       "      <td>0.712005</td>\n",
       "      <td>-0.163381</td>\n",
       "      <td>0.277897</td>\n",
       "      <td>-0.179722</td>\n",
       "      <td>-0.355902</td>\n",
       "      <td>-0.282539</td>\n",
       "      <td>-0.781531</td>\n",
       "      <td>0.030677</td>\n",
       "    </tr>\n",
       "  </tbody>\n",
       "</table>\n",
       "<p>5 rows × 21 columns</p>\n",
       "</div>"
      ],
      "text/plain": [
       "             BTC-USD       IYW       IYJ       IBB       IGV       IXP  \\\n",
       "Date                                                                     \n",
       "2020-01-03  1.424209 -0.671056 -0.190591 -0.947274 -0.254150 -0.390448   \n",
       "2020-01-04  0.203902 -0.040340 -0.024434 -0.013644 -0.031061 -0.019436   \n",
       "2020-01-05 -0.050679 -0.040340 -0.024434 -0.013644 -0.031061 -0.019436   \n",
       "2020-01-06  1.333457  0.349443 -0.091952  0.456112  0.687513  0.765890   \n",
       "2020-01-07  1.404745 -0.016296 -0.137063  0.004784  0.133634 -0.098546   \n",
       "\n",
       "                 IYT       VNQ       PBS       PBJ  ...       KIE       KBE  \\\n",
       "Date                                                ...                       \n",
       "2020-01-03 -0.501975  0.420998 -0.315017  0.273329  ... -0.138042 -0.485087   \n",
       "2020-01-04 -0.023140 -0.012654 -0.014868 -0.030102  ... -0.022307 -0.013012   \n",
       "2020-01-05 -0.023140 -0.012654 -0.014868 -0.030102  ... -0.022307 -0.013012   \n",
       "2020-01-06 -0.437949  0.070521  0.078767 -0.302358  ... -0.080288 -0.404896   \n",
       "2020-01-07  0.219367 -0.790505  0.369042 -0.788461  ... -0.505687 -0.343955   \n",
       "\n",
       "                 XSD       ITB       ITA       IHI       IHF       IHE  \\\n",
       "Date                                                                     \n",
       "2020-01-03 -0.792320  0.108289  0.725666 -0.590722 -0.407742 -1.062820   \n",
       "2020-01-04 -0.035116 -0.039651 -0.014400 -0.017975 -0.022770 -0.019091   \n",
       "2020-01-05 -0.035116 -0.039651 -0.014400 -0.017975 -0.022770 -0.019091   \n",
       "2020-01-06 -0.371942  0.414285  0.072846  0.649540  0.782027  0.097451   \n",
       "2020-01-07  0.712005 -0.163381  0.277897 -0.179722 -0.355902 -0.282539   \n",
       "\n",
       "                 IEZ       FDN  \n",
       "Date                            \n",
       "2020-01-03  0.366435 -0.497355  \n",
       "2020-01-04 -0.017661 -0.019754  \n",
       "2020-01-05 -0.017661 -0.019754  \n",
       "2020-01-06  0.604124  0.811060  \n",
       "2020-01-07 -0.781531  0.030677  \n",
       "\n",
       "[5 rows x 21 columns]"
      ]
     },
     "execution_count": 9,
     "metadata": {},
     "output_type": "execute_result"
    }
   ],
   "source": [
    "normed_r = normalize_returns(asset_returns)\n",
    "normed_r.iloc[:, :n_stocks_show].head()"
   ]
  },
  {
   "cell_type": "code",
   "execution_count": 10,
   "metadata": {},
   "outputs": [],
   "source": [
    "def absorption_ratio(explained_variance_arr, n_components):\n",
    "    \"\"\"\n",
    "    Calculate absorption ratio via PCA.  \n",
    "    Arguments:\n",
    "    explained_variance_arr -- 1D np.array of explained variance by each pricincipal component, in descending order\n",
    "    n_components -- an integer, a number of principal components to compute absorption ratio\n",
    "    Formally, the ratio is defined by the variance absorbed by the first n eigenvectors\n",
    "    The numerator equals the cumulative variance explained by the first n eigenvectors (=n_components) \n",
    "    And the denominator equals the total variance\n",
    "    Return:\n",
    "    ar -- absorption ratio\n",
    "    \"\"\"\n",
    "    ar = np.sum(explained_variance_arr[:n_components]) / np.sum(explained_variance_arr)\n",
    "    return ar"
   ]
  },
  {
   "cell_type": "code",
   "execution_count": 11,
   "metadata": {},
   "outputs": [
    {
     "name": "stdout",
     "output_type": "stream",
     "text": [
      "Lookback window = 252\n",
      "Step size = 1\n",
      "Variance Threshold =  0.8\n",
      "Number of assets = 21\n",
      "Number of principal components = 4\n"
     ]
    }
   ],
   "source": [
    "stock_tickers = asset_returns.columns.values[:]\n",
    "assert 'SPX' not in stock_tickers, \"By accident included SPX index\"\n",
    "\n",
    "lookback_window = 252 * 1   # in (days)\n",
    "num_assets = len(stock_tickers)\n",
    "step_size = 1          # days : 5 - weekly, 21 - monthly, 63 - quarterly\n",
    "\n",
    "# require 0.8 variance to be explained. \n",
    "var_threshold = 0.8     \n",
    "\n",
    "# fix 20% of principal components for absorption ratio calculation.\n",
    "absorb_comp = int((1 / 5) * num_assets)  \n",
    "\n",
    "\n",
    "print('Lookback window = %d' % lookback_window)\n",
    "print('Step size = %d' % step_size)\n",
    "print('Variance Threshold = ', var_threshold)\n",
    "print('Number of assets = %d' % num_assets)\n",
    "print('Number of principal components = %d' % absorb_comp)"
   ]
  },
  {
   "cell_type": "code",
   "execution_count": 12,
   "metadata": {},
   "outputs": [],
   "source": [
    "# indexes date on which to compute PCA\n",
    "days_offset = 2 * 252 \n",
    "num_days = 3 * 252 + days_offset \n",
    "pca_ts_index = asset_returns.index[list(range(lookback_window + days_offset, min(num_days, len(asset_returns)), step_size))]\n",
    "\n",
    "# allocate arrays for storing absorption ratio\n",
    "pca_components = np.array([np.nan]*len(pca_ts_index))\n",
    "absorp_ratio = np.array([np.nan]*len(pca_ts_index))\n",
    "kmo = np.array([np.nan]*len(pca_ts_index))\n",
    "\n",
    "assert 'SPX' not in asset_returns.iloc[:lookback_window, :].columns.values, \"By accident included SPX index\""
   ]
  },
  {
   "cell_type": "markdown",
   "metadata": {},
   "source": [
    "**What this loop does**\n",
    "- on each loop iteration: \n",
    "    - fits PCA to **ret_frame**\n",
    "    - uses fitted pca model to pass values to absorption_ratio(). \n",
    "    - computes the number of principal components it takes to explain at least **var_threshold** of variance. The result of this calculation goes into **pca_components[ik]**. The result of the absorption ratio calculation goes into **absorp_ratio[ik]**.  The result of the KMO statistic calculation goes into **kmo[ik]**."
   ]
  },
  {
   "cell_type": "markdown",
   "metadata": {},
   "source": [
    "# Loop with sklearn.decomposition.PCA"
   ]
  },
  {
   "cell_type": "markdown",
   "metadata": {},
   "source": [
    "import time\n",
    "\n",
    "ik = 0\n",
    "time_start = time.time()\n",
    "\n",
    "for ix in range(lookback_window + days_offset, min(num_days, len(asset_returns)), step_size):\n",
    "    ret_frame = normalize_returns(asset_returns.iloc[ix - lookback_window:ix, :]) # fixed window \n",
    "    ret_frame_kmo = ret_frame.copy(deep=True)\n",
    "    ret_frame = ret_frame.ewm(halflife=252/12).mean()\n",
    "    cov_mat = ret_frame.cov()\n",
    "    \n",
    "    if ik == 0 or ik % 21 == 0: \n",
    "        ### fit PCA, compute the pca components and absorption ratio \n",
    "        ### store results into pca_components[ik] and absorp_ratio[ik]\n",
    "        #instantiate pca object\n",
    "        pca = sklearn.decomposition.PCA()\n",
    "        #fit pca to ret_frame\n",
    "        pca.fit(ret_frame) \n",
    "        #Using ret_frame_kmo, calculate the KMO statistic (=kmo_total) and assign it to kmo[ik]. \n",
    "        kmo_per_variable, kmo_total=calculate_kmo(ret_frame_kmo)\n",
    "        kmo[ik] = kmo_total\n",
    "        #calculate the number of components needed to explain the var_threshold and assign it to pca_components[ik] \n",
    "        explained_variance = np.cumsum(pca.explained_variance_ratio_)\n",
    "        pca_components[ik] = np.where(np.logical_not(explained_variance < var_threshold))[0][0] + 1\n",
    "        #calculate the absorption ratio by calling absorption_ratio() and assign it to absorp_ratio[ik]\n",
    "        #when you run this loop you can try various settings for the parameter n_components (now set to absorb_comp) in this absorption_ratio function.\n",
    "        absorp_ratio[ik] = absorption_ratio(pca.explained_variance_ratio_, absorb_comp)\n",
    "    else:\n",
    "        absorp_ratio[ik] = absorp_ratio[ik-1] \n",
    "        pca_components[ik] = pca_components[ik-1]\n",
    "        kmo[ik] = kmo[ik-1]\n",
    "\n",
    "    ik += 1\n",
    "    \n",
    "print ('Absorption Ratio done! Time elapsed: {} seconds'.format(time.time() - time_start))    \n",
    "ts_pca_components = pd.Series(pca_components, index=pca_ts_index)\n",
    "ts_absorb_ratio = pd.Series(absorp_ratio, index=pca_ts_index)"
   ]
  },
  {
   "cell_type": "code",
   "execution_count": 13,
   "metadata": {},
   "outputs": [
    {
     "name": "stderr",
     "output_type": "stream",
     "text": [
      "/opt/anaconda3/lib/python3.11/site-packages/factor_analyzer/utils.py:244: UserWarning: The inverse of the variance-covariance matrix was calculated using the Moore-Penrose generalized matrix inversion, due to its determinant being at or very close to zero.\n",
      "  warnings.warn(\n",
      "/opt/anaconda3/lib/python3.11/site-packages/factor_analyzer/utils.py:244: UserWarning: The inverse of the variance-covariance matrix was calculated using the Moore-Penrose generalized matrix inversion, due to its determinant being at or very close to zero.\n",
      "  warnings.warn(\n",
      "/opt/anaconda3/lib/python3.11/site-packages/factor_analyzer/utils.py:244: UserWarning: The inverse of the variance-covariance matrix was calculated using the Moore-Penrose generalized matrix inversion, due to its determinant being at or very close to zero.\n",
      "  warnings.warn(\n",
      "/opt/anaconda3/lib/python3.11/site-packages/factor_analyzer/utils.py:244: UserWarning: The inverse of the variance-covariance matrix was calculated using the Moore-Penrose generalized matrix inversion, due to its determinant being at or very close to zero.\n",
      "  warnings.warn(\n",
      "/opt/anaconda3/lib/python3.11/site-packages/factor_analyzer/utils.py:244: UserWarning: The inverse of the variance-covariance matrix was calculated using the Moore-Penrose generalized matrix inversion, due to its determinant being at or very close to zero.\n",
      "  warnings.warn(\n",
      "/opt/anaconda3/lib/python3.11/site-packages/factor_analyzer/utils.py:244: UserWarning: The inverse of the variance-covariance matrix was calculated using the Moore-Penrose generalized matrix inversion, due to its determinant being at or very close to zero.\n",
      "  warnings.warn(\n",
      "/opt/anaconda3/lib/python3.11/site-packages/factor_analyzer/utils.py:244: UserWarning: The inverse of the variance-covariance matrix was calculated using the Moore-Penrose generalized matrix inversion, due to its determinant being at or very close to zero.\n",
      "  warnings.warn(\n",
      "/opt/anaconda3/lib/python3.11/site-packages/factor_analyzer/utils.py:244: UserWarning: The inverse of the variance-covariance matrix was calculated using the Moore-Penrose generalized matrix inversion, due to its determinant being at or very close to zero.\n",
      "  warnings.warn(\n",
      "/opt/anaconda3/lib/python3.11/site-packages/factor_analyzer/utils.py:244: UserWarning: The inverse of the variance-covariance matrix was calculated using the Moore-Penrose generalized matrix inversion, due to its determinant being at or very close to zero.\n",
      "  warnings.warn(\n",
      "/opt/anaconda3/lib/python3.11/site-packages/factor_analyzer/utils.py:244: UserWarning: The inverse of the variance-covariance matrix was calculated using the Moore-Penrose generalized matrix inversion, due to its determinant being at or very close to zero.\n",
      "  warnings.warn(\n",
      "/opt/anaconda3/lib/python3.11/site-packages/factor_analyzer/utils.py:244: UserWarning: The inverse of the variance-covariance matrix was calculated using the Moore-Penrose generalized matrix inversion, due to its determinant being at or very close to zero.\n",
      "  warnings.warn(\n",
      "/opt/anaconda3/lib/python3.11/site-packages/factor_analyzer/utils.py:244: UserWarning: The inverse of the variance-covariance matrix was calculated using the Moore-Penrose generalized matrix inversion, due to its determinant being at or very close to zero.\n",
      "  warnings.warn(\n",
      "/opt/anaconda3/lib/python3.11/site-packages/factor_analyzer/utils.py:244: UserWarning: The inverse of the variance-covariance matrix was calculated using the Moore-Penrose generalized matrix inversion, due to its determinant being at or very close to zero.\n",
      "  warnings.warn(\n",
      "/opt/anaconda3/lib/python3.11/site-packages/factor_analyzer/utils.py:244: UserWarning: The inverse of the variance-covariance matrix was calculated using the Moore-Penrose generalized matrix inversion, due to its determinant being at or very close to zero.\n",
      "  warnings.warn(\n",
      "/opt/anaconda3/lib/python3.11/site-packages/factor_analyzer/utils.py:244: UserWarning: The inverse of the variance-covariance matrix was calculated using the Moore-Penrose generalized matrix inversion, due to its determinant being at or very close to zero.\n",
      "  warnings.warn(\n",
      "/opt/anaconda3/lib/python3.11/site-packages/factor_analyzer/utils.py:244: UserWarning: The inverse of the variance-covariance matrix was calculated using the Moore-Penrose generalized matrix inversion, due to its determinant being at or very close to zero.\n",
      "  warnings.warn(\n",
      "/opt/anaconda3/lib/python3.11/site-packages/factor_analyzer/utils.py:244: UserWarning: The inverse of the variance-covariance matrix was calculated using the Moore-Penrose generalized matrix inversion, due to its determinant being at or very close to zero.\n",
      "  warnings.warn(\n",
      "/opt/anaconda3/lib/python3.11/site-packages/factor_analyzer/utils.py:244: UserWarning: The inverse of the variance-covariance matrix was calculated using the Moore-Penrose generalized matrix inversion, due to its determinant being at or very close to zero.\n",
      "  warnings.warn(\n",
      "/opt/anaconda3/lib/python3.11/site-packages/factor_analyzer/utils.py:244: UserWarning: The inverse of the variance-covariance matrix was calculated using the Moore-Penrose generalized matrix inversion, due to its determinant being at or very close to zero.\n",
      "  warnings.warn(\n",
      "/opt/anaconda3/lib/python3.11/site-packages/factor_analyzer/utils.py:244: UserWarning: The inverse of the variance-covariance matrix was calculated using the Moore-Penrose generalized matrix inversion, due to its determinant being at or very close to zero.\n",
      "  warnings.warn(\n",
      "/opt/anaconda3/lib/python3.11/site-packages/factor_analyzer/utils.py:244: UserWarning: The inverse of the variance-covariance matrix was calculated using the Moore-Penrose generalized matrix inversion, due to its determinant being at or very close to zero.\n",
      "  warnings.warn(\n"
     ]
    },
    {
     "name": "stdout",
     "output_type": "stream",
     "text": [
      "Absorption Ratio done! Time elapsed: 0.49113011360168457 seconds\n"
     ]
    },
    {
     "name": "stderr",
     "output_type": "stream",
     "text": [
      "/opt/anaconda3/lib/python3.11/site-packages/factor_analyzer/utils.py:244: UserWarning: The inverse of the variance-covariance matrix was calculated using the Moore-Penrose generalized matrix inversion, due to its determinant being at or very close to zero.\n",
      "  warnings.warn(\n",
      "/opt/anaconda3/lib/python3.11/site-packages/factor_analyzer/utils.py:244: UserWarning: The inverse of the variance-covariance matrix was calculated using the Moore-Penrose generalized matrix inversion, due to its determinant being at or very close to zero.\n",
      "  warnings.warn(\n",
      "/opt/anaconda3/lib/python3.11/site-packages/factor_analyzer/utils.py:244: UserWarning: The inverse of the variance-covariance matrix was calculated using the Moore-Penrose generalized matrix inversion, due to its determinant being at or very close to zero.\n",
      "  warnings.warn(\n"
     ]
    }
   ],
   "source": [
    "import time\n",
    "\n",
    "ik = 0\n",
    "time_start = time.time()\n",
    "\n",
    "for ix in range(lookback_window + days_offset, min(num_days, len(asset_returns)), step_size):\n",
    "    ret_frame = normalize_returns(asset_returns.iloc[ix - lookback_window:ix, :]) # fixed window \n",
    "    ret_frame_kmo = ret_frame.copy(deep=True)\n",
    "    ret_frame = ret_frame.ewm(halflife=252/12).mean()\n",
    "    cov_mat = ret_frame.cov()\n",
    "    \n",
    "    if ik == 0 or ik % 21 == 0: \n",
    "        ### fit PCA, compute the pca components and absorption ratio \n",
    "        ### store results into pca_components[ik] and absorp_ratio[ik]\n",
    "        #instantiate pca object\n",
    "        pca = sklearn.decomposition.PCA()\n",
    "        #fit pca to ret_frame\n",
    "        pca.fit(ret_frame) \n",
    "        #Using ret_frame_kmo, calculate the KMO statistic (=kmo_total) and assign it to kmo[ik]. \n",
    "        kmo_per_variable, kmo_total=calculate_kmo(ret_frame_kmo)\n",
    "        kmo[ik] = kmo_total\n",
    "        #calculate the number of components needed to explain the var_threshold and assign it to pca_components[ik] \n",
    "        explained_variance = np.cumsum(pca.explained_variance_ratio_)\n",
    "        pca_components[ik] = np.where(np.logical_not(explained_variance < var_threshold))[0][0] + 1\n",
    "        #calculate the absorption ratio by calling absorption_ratio() and assign it to absorp_ratio[ik]\n",
    "        #when you run this loop you can try various settings for the parameter n_components (now set to absorb_comp) in this absorption_ratio function.\n",
    "        absorp_ratio[ik] = absorption_ratio(pca.explained_variance_ratio_, absorb_comp)\n",
    "    else:\n",
    "        absorp_ratio[ik] = absorp_ratio[ik-1] \n",
    "        pca_components[ik] = pca_components[ik-1]\n",
    "        kmo[ik] = kmo[ik-1]\n",
    "\n",
    "    ik += 1\n",
    "    \n",
    "print ('Absorption Ratio done! Time elapsed: {} seconds'.format(time.time() - time_start))    \n",
    "ts_pca_components = pd.Series(pca_components, index=pca_ts_index)\n",
    "ts_absorb_ratio = pd.Series(absorp_ratio, index=pca_ts_index)"
   ]
  },
  {
   "cell_type": "markdown",
   "metadata": {},
   "source": [
    "# Loop with linalg.eig"
   ]
  },
  {
   "cell_type": "code",
   "execution_count": 14,
   "metadata": {},
   "outputs": [],
   "source": [
    "# import time\n",
    "\n",
    "# ik = 0\n",
    "# time_start = time.time()\n",
    "\n",
    "# for ix in range(lookback_window + days_offset, min(num_days, len(asset_returns)), step_size):\n",
    "#     ret_frame = normalize_returns(asset_returns.iloc[ix - lookback_window:ix, :]) # fixed window \n",
    "#     ret_frame_kmo = ret_frame.copy(deep=True)\n",
    "#     ret_frame = ret_frame.ewm(halflife=252/12).mean()\n",
    "#     cov_mat = ret_frame.cov()\n",
    "#     if not posdef.isPD(cov_mat): #make sure the cov_mat is positive definite\n",
    "#         cov_mat = posdef.nearestPD(cov_mat)\n",
    "        \n",
    "    \n",
    "#     if ik == 0 or ik % 21 == 0: \n",
    "#         ### fit PCA, compute the pca components and absorption ratio \n",
    "#         ### store results into pca_components[ik] and absorp_ratio[ik]\n",
    "#         #fit pca to cov_mat\n",
    "#         eigenValues, eigenVectors = linalg.eig(cov_mat) \n",
    "#         idx = eigenValues.argsort()[::-1]   \n",
    "#         eigenValues_ordered = eigenValues[idx]\n",
    "#         eigenVectors_ordered = eigenVectors[:,idx] #vertical eigenvectors ordered from left to right\n",
    "#         #Using ret_frame_kmo, calculate the KMO statistic (=kmo_total) and assign it to kmo[ik]. \n",
    "#         kmo_per_variable, kmo_total=calculate_kmo(ret_frame_kmo)\n",
    "#         kmo[ik] = kmo_total\n",
    "#         #calculate the number of components needed to explain the var_threshold and assign it to pca_components[ik] \n",
    "#         explained_variance_ratio = eigenValues/np.sum(eigenValues_ordered)\n",
    "#         explained_variance = np.cumsum(explained_variance_ratio)\n",
    "#         pca_components[ik] = np.where(np.logical_not(explained_variance < var_threshold))[0][0] + 1\n",
    "#         #calculate the absorption ratio by calling absorption_ratio() and assign it to absorp_ratio[ik]\n",
    "#         #when you run this loop you can try various settings for the parameter n_components (now set to absorb_comp) in this absorption_ratio function.\n",
    "#         absorp_ratio[ik] = absorption_ratio(explained_variance_ratio, absorb_comp)\n",
    "#     else:\n",
    "#         absorp_ratio[ik] = absorp_ratio[ik-1] \n",
    "#         pca_components[ik] = pca_components[ik-1]\n",
    "#         kmo[ik] = kmo[ik-1]\n",
    "\n",
    "#     ik += 1\n",
    "    \n",
    "# print ('Absorption Ratio done! Time elapsed: {} seconds'.format(time.time() - time_start))    \n",
    "# ts_pca_components = pd.Series(pca_components, index=pca_ts_index)\n",
    "# ts_absorb_ratio = pd.Series(absorp_ratio, index=pca_ts_index)\n",
    "# print(ts_absorb_ratio)"
   ]
  },
  {
   "cell_type": "markdown",
   "metadata": {},
   "source": [
    "The value of the KMO statistic should be between .6 and 1. Change the number of years (with a year defined in terms of 252 trading days) in the lookback window to get the minimum KMO below to be close to 0.944286628546701. The KMO statistic and AR tell us similar information:"
   ]
  },
  {
   "cell_type": "code",
   "execution_count": 15,
   "metadata": {},
   "outputs": [
    {
     "data": {
      "text/plain": [
       "0.9131579422423564"
      ]
     },
     "execution_count": 15,
     "metadata": {},
     "output_type": "execute_result"
    }
   ],
   "source": [
    "np.amin(kmo)"
   ]
  },
  {
   "cell_type": "code",
   "execution_count": 16,
   "metadata": {},
   "outputs": [
    {
     "name": "stdout",
     "output_type": "stream",
     "text": [
      "number of components needed to explain 0.8 variance:  2.0\n"
     ]
    }
   ],
   "source": [
    "# require 0.8 variance to be explained. How many components are needed?\n",
    "print('number of components needed to explain 0.8 variance: ', pca_components[len(pca_components)-1]) "
   ]
  },
  {
   "cell_type": "code",
   "execution_count": 17,
   "metadata": {},
   "outputs": [
    {
     "name": "stdout",
     "output_type": "stream",
     "text": [
      "variance explained by 20% of principal components:  0.9234530612794739\n"
     ]
    }
   ],
   "source": [
    "# fix 20% of principal components for absorption ratio calculation. How much variance (in %) do they explain?\n",
    "print('variance explained by 20% of principal components: ', explained_variance[absorb_comp-1]) "
   ]
  },
  {
   "cell_type": "code",
   "execution_count": 18,
   "metadata": {},
   "outputs": [
    {
     "data": {
      "text/plain": [
       "<Axes: >"
      ]
     },
     "execution_count": 18,
     "metadata": {},
     "output_type": "execute_result"
    },
    {
     "data": {
      "image/png": "[encoded data removed]",
      "text/plain": [
       "<Figure size 640x480 with 1 Axes>"
      ]
     },
     "metadata": {},
     "output_type": "display_data"
    }
   ],
   "source": [
    "pd.DataFrame(pca_components).plot()"
   ]
  },
  {
   "cell_type": "code",
   "execution_count": 19,
   "metadata": {},
   "outputs": [
    {
     "data": {
      "image/png": "[encoded data removed]",
      "text/plain": [
       "<Figure size 1200x600 with 1 Axes>"
      ]
     },
     "metadata": {},
     "output_type": "display_data"
    }
   ],
   "source": [
    "ts_absorb_ratio.plot(figsize=(12,6), title='Absorption Ratio via PCA', linewidth=3)\n",
    "plt.savefig(\"Absorption_Ratio_20i.png\", dpi=900)"
   ]
  },
  {
   "cell_type": "markdown",
   "metadata": {},
   "source": [
    "STEP 2:\n",
    "Having computed the Absorption Ratio as a daily times series, we define AR Delta. AR Delta is the standardized change of the absorption ratio over time. The standardized change is essentially a z-score to allow us to detect high outliers of change\n",
    "In particular:\n",
    "$$ AR\\delta = \\frac{AR_{15d} - AR_{1y}}{ AR\\sigma_{1y}}$$\n",
    "We use  $AR\\delta$ to build simple portfolio trading strategy"
   ]
  },
  {
   "cell_type": "code",
   "execution_count": 20,
   "metadata": {},
   "outputs": [
    {
     "data": {
      "image/png": "[encoded data removed]",
      "text/plain": [
       "<Figure size 1200x600 with 2 Axes>"
      ]
     },
     "metadata": {},
     "output_type": "display_data"
    }
   ],
   "source": [
    "# following Kritzman and computing AR_delta = (15d_AR -1yr_AR) / sigma_AR\n",
    "ts_ar = ts_absorb_ratio\n",
    "ar_mean_1yr = ts_ar.rolling(252).mean()\n",
    "ar_mean_15d = ts_ar.rolling(15).mean()\n",
    "ar_sd_1yr = ts_ar.rolling(252).std()\n",
    "ar_delta = (ar_mean_15d - ar_mean_1yr) / ar_sd_1yr  # standardized shift in absorption ratio\n",
    "\n",
    "df_plot = pd.DataFrame({'AR_delta': ar_delta.values, 'AR_1yr': ar_mean_1yr.values, 'AR_15d': ar_mean_15d.values}, \n",
    "                       index=ts_ar.index)\n",
    "df_plot = df_plot.dropna()\n",
    "if df_plot.shape[0] > 0:\n",
    "    df_plot.plot(figsize=(12, 6), title='Absorption Ratio Delta', linewidth=3, secondary_y=['AR_1yr','AR_15d'])"
   ]
  },
  {
   "cell_type": "markdown",
   "metadata": {},
   "source": [
    "#### Part 3 (AR Delta Trading Strategy)\n",
    "\n",
    "Here we implement get_weight() function\n",
    "\n",
    "The AR Delta trading strategy forms a portfolio of EQ (equities=stocks) and FI (fixed income=bonds), following these simple rules:\n",
    "\n",
    "* __$ -1\\sigma < AR\\delta < +1\\sigma $__\t 50% / 50% weights for EQ / FI\n",
    "* __$ AR\\delta > +1\\sigma $__\t             0% / 100% weights for EQ / FI\n",
    "* __$ AR\\delta < d -1\\sigma $__\t             100% / 0% weights for EQ / FI\n",
    "\n",
    "Here we compute AR Delta strategy weights using data from the same data set. As expected, the average number of trades per year is very low."
   ]
  },
  {
   "cell_type": "code",
   "execution_count": 21,
   "metadata": {},
   "outputs": [],
   "source": [
    "def get_weight(ar_delta):\n",
    "    '''\n",
    "    Calculate EQuity / FIncome portfolio weights based on Absorption Ratio delta\n",
    "    Arguments:\n",
    "    ar_delta -- Absorption Ratio delta\n",
    "    \n",
    "    Return: \n",
    "        wgts -- a vector of portfolio weights\n",
    "    '''\n",
    "    wgts = [0.0, 0.0] # replace with your own calculation here\n",
    "    if ar_delta < -1:\n",
    "        wgts = [1, 0]\n",
    "    elif ar_delta > 1:\n",
    "        wgts = [0, 1]\n",
    "    else:\n",
    "        wgts = [.5, .5]\n",
    "    return wgts"
   ]
  },
  {
   "cell_type": "code",
   "execution_count": 22,
   "metadata": {},
   "outputs": [
    {
     "name": "stdout",
     "output_type": "stream",
     "text": [
      "Average number of trades per year 4.00\n"
     ]
    },
    {
     "name": "stderr",
     "output_type": "stream",
     "text": [
      "/var/folders/tz/pry5nfj12jn20gctg0w4tvl80000gn/T/ipykernel_25623/1758394600.py:12: FutureWarning: Series.__getitem__ treating keys as positions is deprecated. In a future version, integer keys will always be treated as labels (consistent with DataFrame behavior). To access a value by position, use `ser.iloc[pos]`\n",
      "  if wgts.iloc[ix-1, :][0] != prtf_wgts[0]:\n"
     ]
    }
   ],
   "source": [
    "#Average trades per year\n",
    "ar_delta_data = ar_delta[251:]\n",
    "\n",
    "rebal_dates = np.zeros(len(ar_delta_data))\n",
    "wgts = pd.DataFrame(data=np.zeros((len(ar_delta_data.index), 2)), index=ar_delta_data.index, columns=('EQ', 'FI'))\n",
    "\n",
    "prtf_wgts = get_weight(ar_delta_data.values[0])\n",
    "wgts.iloc[0, :] = prtf_wgts\n",
    "for ix in range(1, len(ar_delta_data)):\n",
    "    prtf_wgts = get_weight(ar_delta_data.values[ix])\n",
    "    wgts.iloc[ix, :] = prtf_wgts\n",
    "    if wgts.iloc[ix-1, :][0] != prtf_wgts[0]:\n",
    "        prtf_wgts = wgts.iloc[ix, :]\n",
    "        rebal_dates[ix] = 1\n",
    "\n",
    "ts_rebal_dates = pd.Series(rebal_dates, index=ar_delta_data.index)\n",
    "ts_trades_per_year = ts_rebal_dates.groupby([ts_rebal_dates.index.year]).sum()\n",
    "print('Average number of trades per year %.2f' % ts_trades_per_year.mean())"
   ]
  },
  {
   "cell_type": "markdown",
   "metadata": {},
   "source": [
    "Now that weights have been determined, run the re-balancing strategy using time series of returns and compute\n",
    " - sharpe of the strategy\n",
    " - strategy annualized return\n",
    " - strategy annualized volatility\n",
    "\n",
    "Contrast this with 50 / 50 Equity / Fixed Income ETF strategy performance using the same performance metrics. Use VTI as Equity and AGG as Fixed Income assets."
   ]
  },
  {
   "cell_type": "code",
   "execution_count": 23,
   "metadata": {},
   "outputs": [],
   "source": [
    "#1. Go to WRDS CRSP database and obtain the Holding Period Return and ticker for the following industry ETFs:\n",
    "# VTI AGG\n",
    "#the holding period return includes dividends, coupon flows etc.\n",
    "#2. set the starting and ending dates as follows: 1/3/2007 and 12/31/2019\n",
    "#3. Unstack the holding period returns and save the unstacked returns data into a csv file called:\n",
    "# AGG_VTI_UNSTACKED_adjusted_returns.csv"
   ]
  },
  {
   "cell_type": "code",
   "execution_count": 24,
   "metadata": {},
   "outputs": [],
   "source": [
    "#These are adjusted PERCENT returns of AGG and VTI from WRDS CRSP, including distibutions, coupons, dividends etc.\n",
    "etf_percent_returns = pd.read_csv('AGG_VTI_UNSTACKED_adjusted_returns.csv')\n",
    "etf_percent_returns[\"datadate\"]=pd.to_datetime(etf_percent_returns['datadate'])\n",
    "etf_percent_returns.set_index(['datadate'], inplace=True)\n",
    "etf_log_returns = np.log(etf_percent_returns + 1)\n",
    "#decide which return you are going to use by uncommenting a or b below (only a or b is correct, not both):\n",
    "#a:\n",
    "#etf_returns = etf_log_returns.copy()\n",
    "#b:\n",
    "etf_returns = etf_percent_returns.copy()"
   ]
  },
  {
   "cell_type": "code",
   "execution_count": 25,
   "metadata": {},
   "outputs": [
    {
     "name": "stdout",
     "output_type": "stream",
     "text": [
      "Asset holding period returns shape (2012, 2)\n"
     ]
    },
    {
     "data": {
      "text/html": [
       "<div>\n",
       "<style scoped>\n",
       "    .dataframe tbody tr th:only-of-type {\n",
       "        vertical-align: middle;\n",
       "    }\n",
       "\n",
       "    .dataframe tbody tr th {\n",
       "        vertical-align: top;\n",
       "    }\n",
       "\n",
       "    .dataframe thead th {\n",
       "        text-align: right;\n",
       "    }\n",
       "</style>\n",
       "<table border=\"1\" class=\"dataframe\">\n",
       "  <thead>\n",
       "    <tr style=\"text-align: right;\">\n",
       "      <th></th>\n",
       "      <th>AGG</th>\n",
       "      <th>VTI</th>\n",
       "    </tr>\n",
       "    <tr>\n",
       "      <th>datadate</th>\n",
       "      <th></th>\n",
       "      <th></th>\n",
       "    </tr>\n",
       "  </thead>\n",
       "  <tbody>\n",
       "    <tr>\n",
       "      <th>2020-01-02</th>\n",
       "      <td>0.002759</td>\n",
       "      <td>0.008312</td>\n",
       "    </tr>\n",
       "    <tr>\n",
       "      <th>2020-01-03</th>\n",
       "      <td>0.002929</td>\n",
       "      <td>-0.006364</td>\n",
       "    </tr>\n",
       "    <tr>\n",
       "      <th>2020-01-06</th>\n",
       "      <td>-0.000796</td>\n",
       "      <td>0.003416</td>\n",
       "    </tr>\n",
       "    <tr>\n",
       "      <th>2020-01-07</th>\n",
       "      <td>-0.001063</td>\n",
       "      <td>-0.002371</td>\n",
       "    </tr>\n",
       "    <tr>\n",
       "      <th>2020-01-08</th>\n",
       "      <td>-0.001153</td>\n",
       "      <td>0.004936</td>\n",
       "    </tr>\n",
       "  </tbody>\n",
       "</table>\n",
       "</div>"
      ],
      "text/plain": [
       "                 AGG       VTI\n",
       "datadate                      \n",
       "2020-01-02  0.002759  0.008312\n",
       "2020-01-03  0.002929 -0.006364\n",
       "2020-01-06 -0.000796  0.003416\n",
       "2020-01-07 -0.001063 -0.002371\n",
       "2020-01-08 -0.001153  0.004936"
      ]
     },
     "execution_count": 25,
     "metadata": {},
     "output_type": "execute_result"
    }
   ],
   "source": [
    "n_stocks_show = 2\n",
    "print('Asset holding period returns shape', etf_returns.shape)\n",
    "etf_returns.iloc[:, :n_stocks_show].head()"
   ]
  },
  {
   "cell_type": "markdown",
   "metadata": {},
   "source": [
    "#### Part 4 (Calculate performance of backtested strategy)\n",
    "\n",
    "Here we implement function backtest_strategy which given a DataFrame of strategy weights and a DataFrame asset returns annualized return, volatility and Sharpe ratio of a strategy. Our solution has a shape ratio above 1 and the absorption ratio portfolio beats the equally weighted portfolio."
   ]
  },
  {
   "cell_type": "code",
   "execution_count": 26,
   "metadata": {},
   "outputs": [],
   "source": [
    "def backtest_strategy(strat_wgts, asset_returns, periods_per_year = 252):\n",
    "    '''\n",
    "    Calculate portfolio returns and cumulative returns and portfolio strategy performance\n",
    "    Arguments:\n",
    "    \n",
    "    strat_wgts -- pandas.DataFrame of weights of the assets\n",
    "    asset_returns -- pandas.DataFrame of asset returns\n",
    "    periods_per_year -- number of return observations per year\n",
    "    \n",
    "    Return: \n",
    "        (ann_ret, ann_vol, sharpe) -- a tuple of (annualized return, annualized volatility, sharpe ratio)\n",
    "    before returning plot the cumulative return of the EWM+AGG portfolio \n",
    "    '''    \n",
    "    df_all=pd.merge(strat_wgts,asset_returns, left_index=True, right_index=True, how='inner')\n",
    "    df_all['EQ_part'] = df_all.EQ*df_all.VTI\n",
    "    df_all['FI_part'] = df_all.FI*df_all.AGG\n",
    "    df_all['PORT_ret']=df_all.EQ_part+df_all.FI_part\n",
    " \n",
    "    average_arithmetic_return = df_all.PORT_ret.mean()\n",
    "    annualized_return = average_arithmetic_return*periods_per_year\n",
    "    annualized_vol = df_all.PORT_ret.std()*np.sqrt(periods_per_year)\n",
    "    annualized_sharpe = (df_all.PORT_ret.mean()/df_all.PORT_ret.std())*np.sqrt(periods_per_year) #classic definition\n",
    "    #before returning plot the cumulative return of the EWM+AGG portfolio \n",
    "    df_all['PORT_ret'] = df_all.PORT_ret + 1\n",
    "    df_all['Cum_PORT_ret'] = df_all.PORT_ret.cumprod()-1+1 \n",
    "    df_all['Cum_PORT_ret'].plot()\n",
    "    return annualized_return, annualized_vol, annualized_sharpe\n",
    "   "
   ]
  },
  {
   "cell_type": "code",
   "execution_count": 38,
   "metadata": {},
   "outputs": [
    {
     "name": "stdout",
     "output_type": "stream",
     "text": [
      "Absorption Ratio strategy: 0.040913337620689647 0.09989043186665114 0.4095821477206842\n",
      "Equally weighted: 0.1522918899310345 0.11063140507107619 1.3765701505209407\n"
     ]
    },
    {
     "data": {
      "image/png": "[encoded data removed]",
      "text/plain": [
       "<Figure size 640x480 with 1 Axes>"
      ]
     },
     "metadata": {},
     "output_type": "display_data"
    }
   ],
   "source": [
    "ann_ret, ann_vol, sharpe = backtest_strategy(wgts, etf_returns)\n",
    "\n",
    "print('Absorption Ratio strategy:', ann_ret, ann_vol, sharpe)\n",
    "\n",
    "eq_wgts = wgts.copy()\n",
    "eq_wgts.iloc[:, ] = 0.5\n",
    "ann_ret_eq_wgt, ann_vol_eq_wgt, sharpe_eq_wgt = backtest_strategy(eq_wgts, etf_returns)\n",
    "print('Equally weighted:', ann_ret_eq_wgt, ann_vol_eq_wgt, sharpe_eq_wgt)"
   ]
  },
  {
   "cell_type": "markdown",
   "metadata": {},
   "source": [
    "# USING sklearn.decomposition.PCA() VS USING numpy.linalg.eig()"
   ]
  },
  {
   "cell_type": "code",
   "execution_count": 28,
   "metadata": {},
   "outputs": [
    {
     "data": {
      "text/plain": [
       "0.9307961286092709"
      ]
     },
     "execution_count": 28,
     "metadata": {},
     "output_type": "execute_result"
    }
   ],
   "source": [
    "pca = sklearn.decomposition.PCA()\n",
    "#fit pca to ret_frame\n",
    "pca.fit(ret_frame) \n",
    "#calculate the number of components needed to explain the var_threshold and assign it to pca_components[ik] \n",
    "explained_variance = np.cumsum(pca.explained_variance_ratio_)\n",
    "pca_components = np.where(np.logical_not(explained_variance < var_threshold))[0][0] + 1\n",
    "#calculate the absorption ratio by calling absorption_ratio() and assign it to absorp_ratio[ik]\n",
    "#when you run this loop you can try various settings for the parameter n_components (now set to absorb_comp) in this absorption_ratio function.\n",
    "absorp_ratio = absorption_ratio(pca.explained_variance_ratio_, absorb_comp)\n",
    "absorp_ratio"
   ]
  },
  {
   "cell_type": "code",
   "execution_count": 29,
   "metadata": {},
   "outputs": [
    {
     "data": {
      "text/plain": [
       "0.9307961286092709"
      ]
     },
     "execution_count": 29,
     "metadata": {},
     "output_type": "execute_result"
    }
   ],
   "source": [
    "import numpy.linalg as linalg\n",
    "#fit pca to the covariance matrix (ret_frame.cov() or predicted_cov_mat)\n",
    "eigenValues, eigenVectors = linalg.eig(ret_frame.cov()) \n",
    "idx = eigenValues.argsort()[::-1]   \n",
    "eigenValues_ordered = eigenValues[idx]\n",
    "eigenVectors_ordered = eigenVectors[:,idx] #vertical eigenvectors ordered from left to right\n",
    "explained_variance_ratio = eigenValues/np.sum(eigenValues_ordered)\n",
    "explained_variance = np.cumsum(explained_variance_ratio)\n",
    "pca_components = np.where(np.logical_not(explained_variance < var_threshold))[0][0] + 1\n",
    "absorp_ratio = absorption_ratio(explained_variance_ratio, absorb_comp)\n",
    "absorp_ratio"
   ]
  },
  {
   "cell_type": "code",
   "execution_count": 40,
   "metadata": {},
   "outputs": [
    {
     "name": "stdout",
     "output_type": "stream",
     "text": [
      "          BTC-USD       IYW       IYJ       IBB       IGV       IXP       IYT  \\\n",
      "BTC-USD  1.019809  0.618463  1.193579  0.930238  2.050490  1.745392  1.495038   \n",
      "IYW      0.618463  0.778416  0.801966  1.174588  0.429816  1.177926  0.642531   \n",
      "IYJ      1.193579  0.801966  0.648358  1.215570  1.422535  1.395508  1.258151   \n",
      "IBB      0.930238  1.174588  1.215570  1.415871  2.163214  1.647489  1.689531   \n",
      "IGV      2.050490  0.429816  1.422535  2.163214  1.678234  1.626325  1.539474   \n",
      "IXP      1.745392  1.177926  1.395508  1.647489  1.626325  1.297577  1.297097   \n",
      "IYT      1.495038  0.642531  1.258151  1.689531  1.539474  1.297097  1.214219   \n",
      "VNQ      1.219459  1.181595  1.420941  0.939632  2.039699  1.392248  1.310646   \n",
      "PBS      0.744240  0.590169  0.330358  0.923877  0.188672  0.768222  0.792719   \n",
      "PBJ      0.932780  0.714293  0.497069  0.935430  0.750814  0.646950  0.467647   \n",
      "KCE      0.917068  0.536409  0.709998  1.201236  1.058204  0.696028  0.971573   \n",
      "KIE      0.818344  0.553458  0.718058  1.091044  0.781542  0.781694  0.876727   \n",
      "KBE      0.486091  0.533273  0.708210  1.026685  0.866703  0.334716  0.438814   \n",
      "XSD      1.546731  0.827510  0.686258  0.882852  0.886423  1.161653  1.319304   \n",
      "ITB      0.512817  0.420442  0.560455  1.025762  0.344469  0.882413  0.797228   \n",
      "ITA      1.590572  0.989650  1.330288  2.308964  1.500340  1.176882  1.540216   \n",
      "IHI      1.900507  1.883022  1.832598  2.330376  2.622929  1.762805  1.840748   \n",
      "IHF      1.280992  0.657849  0.993457  1.639391  1.395659  1.399147  0.907918   \n",
      "IHE      1.186028  1.270872  1.153783  0.710546  1.765112  1.327947  1.296207   \n",
      "IEZ      1.124572  0.821460  0.598095  0.801765  0.475133  0.718009  0.964357   \n",
      "FDN      1.523790  0.967484  1.064997  1.647295  1.620939  1.255436  0.629437   \n",
      "\n",
      "              VNQ       PBS       PBJ  ...       KIE       KBE       XSD  \\\n",
      "BTC-USD  1.219459  0.744240  0.932780  ...  0.818344  0.486091  1.546731   \n",
      "IYW      1.181595  0.590169  0.714293  ...  0.553458  0.533273  0.827510   \n",
      "IYJ      1.420941  0.330358  0.497069  ...  0.718058  0.708210  0.686258   \n",
      "IBB      0.939632  0.923877  0.935430  ...  1.091044  1.026685  0.882852   \n",
      "IGV      2.039699  0.188672  0.750814  ...  0.781542  0.866703  0.886423   \n",
      "IXP      1.392248  0.768222  0.646950  ...  0.781694  0.334716  1.161653   \n",
      "IYT      1.310646  0.792719  0.467647  ...  0.876727  0.438814  1.319304   \n",
      "VNQ      1.466958  0.648925  0.645331  ...  0.728496  0.835907  0.957982   \n",
      "PBS      0.648925  0.329354  0.314328  ...  0.432555  0.430839  0.707805   \n",
      "PBJ      0.645331  0.314328  0.326106  ...  0.493174  0.434233  0.789806   \n",
      "KCE      0.593580  0.441450  0.445371  ...  0.385771  0.455683  0.988545   \n",
      "KIE      0.728496  0.432555  0.493174  ...  0.426491  0.092919  0.911921   \n",
      "KBE      0.835907  0.430839  0.434233  ...  0.092919  0.405654  0.983237   \n",
      "XSD      0.957982  0.707805  0.789806  ...  0.911921  0.983237  1.205574   \n",
      "ITB      0.713262  0.434218  0.412394  ...  0.707550  0.625326  0.638236   \n",
      "ITA      1.194222  1.099181  0.840739  ...  1.362591 -0.102174  1.550195   \n",
      "IHI      0.901767  1.173096  0.670541  ...  1.318303  0.808335  1.732155   \n",
      "IHF      1.044872  0.409312  0.555745  ...  0.858410  0.656400  0.831835   \n",
      "IHE      0.514670  0.797769  0.555316  ...  0.951953  0.677718  0.863607   \n",
      "IEZ      0.741026  0.508020  0.443235  ...  0.546282  0.473059  0.458355   \n",
      "FDN      1.285180 -0.013886  0.084783  ...  1.078671  0.863694  0.385821   \n",
      "\n",
      "              ITB       ITA       IHI       IHF       IHE       IEZ       FDN  \n",
      "BTC-USD  0.512817  1.590572  1.900507  1.280992  1.186028  1.124572  1.523790  \n",
      "IYW      0.420442  0.989650  1.883022  0.657849  1.270872  0.821460  0.967484  \n",
      "IYJ      0.560455  1.330288  1.832598  0.993457  1.153783  0.598095  1.064997  \n",
      "IBB      1.025762  2.308964  2.330376  1.639391  0.710546  0.801765  1.647295  \n",
      "IGV      0.344469  1.500340  2.622929  1.395659  1.765112  0.475133  1.620939  \n",
      "IXP      0.882413  1.176882  1.762805  1.399147  1.327947  0.718009  1.255436  \n",
      "IYT      0.797228  1.540216  1.840748  0.907918  1.296207  0.964357  0.629437  \n",
      "VNQ      0.713262  1.194222  0.901767  1.044872  0.514670  0.741026  1.285180  \n",
      "PBS      0.434218  1.099181  1.173096  0.409312  0.797769  0.508020 -0.013886  \n",
      "PBJ      0.412394  0.840739  0.670541  0.555745  0.555316  0.443235  0.084783  \n",
      "KCE      0.602961  1.014364  1.391968  0.675178  0.727284  0.644808  0.847305  \n",
      "KIE      0.707550  1.362591  1.318303  0.858410  0.951953  0.546282  1.078671  \n",
      "KBE      0.625326 -0.102174  0.808335  0.656400  0.677718  0.473059  0.863694  \n",
      "XSD      0.638236  1.550195  1.732155  0.831835  0.863607  0.458355  0.385821  \n",
      "ITB      0.475139  0.922526  1.517011  0.880439  1.094394  0.574247  0.961222  \n",
      "ITA      0.922526  1.675206  1.924303  1.639705  1.584044  1.324556  1.395384  \n",
      "IHI      1.517011  1.924303  2.132124  1.724098  0.912194  1.223963  2.334916  \n",
      "IHF      0.880439  1.639705  1.724098  0.830915  1.301942  0.670047  1.243800  \n",
      "IHE      1.094394  1.584044  0.912194  1.301942  1.183085  0.991750  1.091952  \n",
      "IEZ      0.574247  1.324556  1.223963  0.670047  0.991750  0.617304  1.060752  \n",
      "FDN      0.961222  1.395384  2.334916  1.243800  1.091952  1.060752  1.430310  \n",
      "\n",
      "[21 rows x 21 columns]\n"
     ]
    }
   ],
   "source": [
    "covariance_matrix = pd.read_csv('covariance_matrix.csv', header=None)\n",
    "asset_tickers = ret_frame.columns.tolist()\n",
    "\n",
    "covariance_matrix.index = asset_tickers\n",
    "covariance_matrix.columns = asset_tickers\n",
    "print(covariance_matrix)\n",
    "predicted_cov_mat = covariance_matrix\n"
   ]
  },
  {
   "cell_type": "code",
   "execution_count": 41,
   "metadata": {},
   "outputs": [
    {
     "data": {
      "text/plain": [
       "0.9253993155038068"
      ]
     },
     "execution_count": 41,
     "metadata": {},
     "output_type": "execute_result"
    }
   ],
   "source": [
    "import numpy.linalg as linalg\n",
    "#fit pca to the covariance matrix (ret_frame.cov() or predicted_cov_mat)\n",
    "eigenValues, eigenVectors = linalg.eig(predicted_cov_mat) \n",
    "idx = eigenValues.argsort()[::-1]   \n",
    "eigenValues_ordered = eigenValues[idx]\n",
    "eigenVectors_ordered = eigenVectors[:,idx] #vertical eigenvectors ordered from left to right\n",
    "explained_variance_ratio = eigenValues/np.sum(eigenValues_ordered)\n",
    "explained_variance = np.cumsum(explained_variance_ratio)\n",
    "pca_components = np.where(np.logical_not(explained_variance < var_threshold))[0][0] + 1\n",
    "absorp_ratio = absorption_ratio(explained_variance_ratio, absorb_comp)\n",
    "absorp_ratio"
   ]
  },
  {
   "cell_type": "markdown",
   "metadata": {},
   "source": [
    "The original absorption ratio was 0.931 while the absorptio ratio using the predicted covariance matrix is 0.925. There is not any significant differnce but using the predicted covariance matrix produces a smaller AR. This means with the lose of white noise the portfolio possess less volatility in the largest 20%."
   ]
  },
  {
   "cell_type": "code",
   "execution_count": null,
   "metadata": {},
   "outputs": [],
   "source": [
    "# correlation_matrix = pd.read_csv('correlation_matrix.csv', header=None)\n",
    "# asset_tickers = ret_frame.columns.tolist()\n",
    "\n",
    "# correlation_matrix.index = asset_tickers\n",
    "# correlation_matrix.columns = asset_tickers\n",
    "# print(correlation_matrix)"
   ]
  },
  {
   "cell_type": "code",
   "execution_count": null,
   "metadata": {},
   "outputs": [],
   "source": [
    "# import numpy.linalg as linalg\n",
    "# #fit pca to the covariance matrix (ret_frame.cov() or predicted_cov_mat)\n",
    "# eigenValues, eigenVectors = linalg.eig(correlation_matrix) \n",
    "# idx = eigenValues.argsort()[::-1]   \n",
    "# eigenValues_ordered = eigenValues[idx]\n",
    "# eigenVectors_ordered = eigenVectors[:,idx] #vertical eigenvectors ordered from left to right\n",
    "# explained_variance_ratio = eigenValues/np.sum(eigenValues_ordered)\n",
    "# explained_variance = np.cumsum(explained_variance_ratio)\n",
    "# pca_components = np.where(np.logical_not(explained_variance < var_threshold))[0][0] + 1\n",
    "# absorp_ratio = absorption_ratio(explained_variance_ratio, absorb_comp)\n",
    "# absorp_ratio"
   ]
  }
 ],
 "metadata": {
  "anaconda-cloud": {},
  "celltoolbar": "Edit Metadata",
  "coursera": {
   "course_slug": "machine-learning-in-finance"
  },
  "kernelspec": {
   "display_name": "Python 3",
   "language": "python",
   "name": "python3"
  },
  "language_info": {
   "codemirror_mode": {
    "name": "ipython",
    "version": 3
   },
   "file_extension": ".py",
   "mimetype": "text/x-python",
   "name": "python",
   "nbconvert_exporter": "python",
   "pygments_lexer": "ipython3",
   "version": "3.11.7"
  }
 },
 "nbformat": 4,
 "nbformat_minor": 1
}
